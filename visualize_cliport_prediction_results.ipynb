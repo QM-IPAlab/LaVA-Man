{
 "cells": [
  {
   "cell_type": "code",
   "execution_count": null,
   "metadata": {
    "vscode": {
     "languageId": "plaintext"
    }
   },
   "outputs": [],
   "source": [
    "import hydra\n",
    "from hydra import initialize, compose\n",
    "from omegaconf import OmegaConf\n",
    "\n",
    "# 初始化 Hydra，指定配置文件目录（例如 conf/ 目录）\n",
    "initialize(config_path=\"./cfg\", job_name=\"eval\")\n",
    "\n",
    "# 组合配置，可以传入类似命令行的参数覆盖（例如 overrides=[\"db.user=root\"]）\n",
    "overrides = [\n",
    "        \"model_task=multi-language-conditioned\",\n",
    "        \"eval_task=packing-unseen-google-objects-group\",\n",
    "        \"agent=mae_sep_seg2_add,\n",
    "        \"mode=test\",\n",
    "        \"n_demos=100\",\n",
    "        \"train_demos=1000\",\n",
    "        \"exp_folder=${exps_name}\",\n",
    "        \"checkpoint_type=best\",\n",
    "        \"update_results=True\",\n",
    "        \"disp=False\",\n",
    "        \"record.save_video=False\"\n",
    "    ]\n",
    "cfg = compose(config_name=\"config\", overrides=overrides)\n",
    "\n",
    "    \n",
    "\n",
    "# 打印整个配置内容\n",
    "print(OmegaConf.to_yaml(cfg))"
   ]
  },
  {
   "cell_type": "code",
   "execution_count": null,
   "metadata": {
    "vscode": {
     "languageId": "plaintext"
    }
   },
   "outputs": [],
   "source": [
    "python cliport/eval_sep.py model_task=multi-language-conditioned\\\n",
    "                        eval_task=${task} \\\n",
    "                        agent=${agent_name} \\\n",
    "                        mode=test \\\n",
    "                        n_demos=100 \\\n",
    "                        train_demos=1000 \\\n",
    "                        exp_folder=${exps_name} \\\n",
    "                        checkpoint_type=best \\\n",
    "                        update_results=True \\\n",
    "                        disp=False\\\n",
    "                        record.save_video=False\n"
   ]
  }
 ],
 "metadata": {
  "language_info": {
   "name": "python"
  }
 },
 "nbformat": 4,
 "nbformat_minor": 2
}
